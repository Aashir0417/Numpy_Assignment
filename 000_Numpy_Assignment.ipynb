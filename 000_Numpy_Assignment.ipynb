{
 "cells": [
  {
   "cell_type": "code",
   "execution_count": 2,
   "metadata": {},
   "outputs": [],
   "source": [
    "import numpy as np"
   ]
  },
  {
   "cell_type": "markdown",
   "metadata": {
    "id": "3c7NCXD4uwMi"
   },
   "source": [
    "Problem  1\n",
    "\n",
    "Convert a 1D array to a 2D array with 2 rows\n",
    "\n",
    "Input:\n",
    "```\n",
    "np.arange(10)\n",
    "\n",
    "#> array([ 0, 1, 2, 3, 4, 5, 6, 7, 8, 9])\n",
    "```\n",
    "\n",
    "Output:\n",
    "\n",
    "\n",
    "```\n",
    "#> array([[0, 1, 2, 3, 4],\n",
    "#>        [5, 6, 7, 8, 9]])\n",
    "```\n",
    "\n"
   ]
  },
  {
   "cell_type": "code",
   "execution_count": 3,
   "metadata": {
    "id": "8CD3EzszvQX_"
   },
   "outputs": [
    {
     "data": {
      "text/plain": [
       "array([0, 1, 2, 3, 4, 5, 6, 7, 8, 9])"
      ]
     },
     "execution_count": 3,
     "metadata": {},
     "output_type": "execute_result"
    }
   ],
   "source": [
    "x = np.arange(10)\n",
    "x"
   ]
  },
  {
   "cell_type": "code",
   "execution_count": 4,
   "metadata": {},
   "outputs": [
    {
     "data": {
      "text/plain": [
       "array([[0, 1, 2, 3, 4],\n",
       "       [5, 6, 7, 8, 9]])"
      ]
     },
     "execution_count": 4,
     "metadata": {},
     "output_type": "execute_result"
    }
   ],
   "source": [
    "x.shape = ((2, 5))\n",
    "x"
   ]
  },
  {
   "cell_type": "code",
   "execution_count": 5,
   "metadata": {},
   "outputs": [
    {
     "data": {
      "text/plain": [
       "array([[0, 1, 2, 3, 4],\n",
       "       [5, 6, 7, 8, 9]])"
      ]
     },
     "execution_count": 5,
     "metadata": {},
     "output_type": "execute_result"
    }
   ],
   "source": [
    "res= x.reshape(2, 5)\n",
    "res"
   ]
  },
  {
   "cell_type": "code",
   "execution_count": null,
   "metadata": {},
   "outputs": [],
   "source": [
    "import numpy as np"
   ]
  },
  {
   "cell_type": "markdown",
   "metadata": {
    "id": "Jfm1H1quvQ2v"
   },
   "source": [
    "Problem  2\n",
    "\n",
    "Extract all odd numbers from arr\n",
    "\n",
    "```\n",
    "arr = np.array([0, 1, 2, 3, 4, 5, 6, 7, 8, 9])\n",
    "```\n",
    "\n"
   ]
  },
  {
   "cell_type": "code",
   "execution_count": 4,
   "metadata": {
    "id": "E7YIi0covbZW"
   },
   "outputs": [
    {
     "data": {
      "text/plain": [
       "array([0, 2, 4, 6, 8])"
      ]
     },
     "execution_count": 4,
     "metadata": {},
     "output_type": "execute_result"
    }
   ],
   "source": [
    "import numpy as np\n",
    "arr = np.array([0, 1, 2, 3, 4, 5, 6, 7, 8, 9])\n",
    "delete_odd = np.delete(arr, arr[1::2])\n",
    "delete_odd"
   ]
  },
  {
   "cell_type": "code",
   "execution_count": null,
   "metadata": {},
   "outputs": [],
   "source": []
  },
  {
   "cell_type": "markdown",
   "metadata": {
    "id": "DbI3SEjgvkoJ"
   },
   "source": [
    "Problem  3\n",
    "\n",
    "Replace all odd numbers in arr with -1\n",
    "\n",
    "```\n",
    "arr = np.array([0, 1, 2, 3, 4, 5, 6, 7, 8, 9])\n",
    "```\n",
    "\n",
    "Output:\n",
    "\n",
    "\n",
    "```\n",
    "#>  array([ 0, -1,  2, -1,  4, -1,  6, -1,  8, -1])\n",
    "```\n",
    "\n"
   ]
  },
  {
   "cell_type": "code",
   "execution_count": 9,
   "metadata": {
    "id": "h6GIvmpVv71a"
   },
   "outputs": [
    {
     "data": {
      "text/plain": [
       "array([ 0, -1,  2, -1,  4, -1,  6, -1,  8, -1])"
      ]
     },
     "execution_count": 9,
     "metadata": {},
     "output_type": "execute_result"
    }
   ],
   "source": [
    "arr = np.array([0, 1, 2, 3, 4, 5, 6, 7, 8, 9])\n",
    "\n",
    "arr[1::2] = -1\n",
    "\n",
    "arr"
   ]
  },
  {
   "cell_type": "markdown",
   "metadata": {
    "id": "DVPkniOuwHj_"
   },
   "source": [
    "Problem  4\n",
    "\n",
    "Replace all odd numbers in arr with -1 without changing arr\n",
    "\n",
    "Input:\n",
    "\n",
    "`arr = np.array([0, 1, 2, 3, 4, 5, 6, 7, 8, 9])`\n",
    "\n",
    "Desired Output:\n",
    "\n",
    "```\n",
    "out\n",
    "#>  array([ 0, -1,  2, -1,  4, -1,  6, -1,  8, -1])\n",
    "arr\n",
    "#>  array([0, 1, 2, 3, 4, 5, 6, 7, 8, 9])\n",
    "```\n",
    "\n",
    "\n"
   ]
  },
  {
   "cell_type": "code",
   "execution_count": 10,
   "metadata": {
    "id": "oNPugS2awTLZ"
   },
   "outputs": [
    {
     "data": {
      "text/plain": [
       "array([ 0, -1,  2, -1,  4, -1,  6, -1,  8, -1])"
      ]
     },
     "execution_count": 10,
     "metadata": {},
     "output_type": "execute_result"
    }
   ],
   "source": [
    "arr = np.array([0, 1, 2, 3, 4, 5, 6, 7, 8, 9])\n",
    "\n",
    "arr1 = arr[:]\n",
    "\n",
    "arr1[1::2]=-1\n",
    "arr1"
   ]
  },
  {
   "cell_type": "markdown",
   "metadata": {
    "id": "jXUu_NSCwfDP"
   },
   "source": [
    "Problem  5\n",
    "\n",
    "Stack arrays a and b vertically\n",
    "\n",
    "Input\n",
    "\n",
    "\n",
    "\n",
    "```\n",
    "a = np.arange(10).reshape(2,-1)\n",
    "b = np.repeat(1, 10).reshape(2,-1)\n",
    "```\n",
    "\n",
    "\n",
    "Desired Output:\n",
    "\n",
    "\n",
    "```\n",
    "array([[0, 1, 2, 3, 4],\n",
    "       [5, 6, 7, 8, 9],\n",
    "       [1, 1, 1, 1, 1],\n",
    "       [1, 1, 1, 1, 1]])\n",
    "```\n",
    "\n",
    "\n"
   ]
  },
  {
   "cell_type": "code",
   "execution_count": 15,
   "metadata": {
    "id": "ZeSCX31zwvKK"
   },
   "outputs": [
    {
     "data": {
      "text/plain": [
       "array([[0, 1, 2, 3, 4],\n",
       "       [5, 6, 7, 8, 9],\n",
       "       [1, 1, 1, 1, 1],\n",
       "       [1, 1, 1, 1, 1]])"
      ]
     },
     "execution_count": 15,
     "metadata": {},
     "output_type": "execute_result"
    }
   ],
   "source": [
    "a = np.arange(10).reshape(2,-1)\n",
    "b = np.repeat(1, 10).reshape(2,-1)\n",
    "#you can also do vstack\n",
    "ver = np.row_stack((a, b))\n",
    "ver\n"
   ]
  },
  {
   "cell_type": "markdown",
   "metadata": {
    "id": "dWoOzOMQw0E5"
   },
   "source": [
    "Problem  6\n",
    "\n",
    "Stack the arrays a and b horizontally.\n",
    "\n",
    "Input\n",
    "\n",
    "\n",
    "```\n",
    "a = np.arange(10).reshape(2,-1)\n",
    "b = np.repeat(1, 10).reshape(2,-1)\n",
    "```\n",
    "\n",
    "\n",
    "Desired Output:\n",
    "\n",
    "\n",
    "\n",
    "```\n",
    "array([[0, 1, 2, 3, 4, 1, 1, 1, 1, 1],\n",
    "       [5, 6, 7, 8, 9, 1, 1, 1, 1, 1]])\n",
    "```\n",
    "\n",
    "\n"
   ]
  },
  {
   "cell_type": "code",
   "execution_count": 29,
   "metadata": {
    "id": "CPbTohhww-h4"
   },
   "outputs": [
    {
     "data": {
      "text/plain": [
       "array([[0, 1, 2, 3, 4, 1, 1, 1, 1, 1],\n",
       "       [5, 6, 7, 8, 9, 1, 1, 1, 1, 1]])"
      ]
     },
     "execution_count": 29,
     "metadata": {},
     "output_type": "execute_result"
    }
   ],
   "source": [
    "a = np.arange(10).reshape(2,-1)\n",
    "b = np.repeat(1, 10).reshape(2,-1)\n",
    "\n",
    "hor = np.column_stack((a,b))\n",
    "hor\n"
   ]
  },
  {
   "cell_type": "markdown",
   "metadata": {
    "id": "qiU8NCeexCLB"
   },
   "source": [
    "Problem  7\n",
    "\n",
    "Create the following pattern without hardcoding. Use only numpy functions and the below input array a.\n",
    "\n",
    "Input:\n",
    "\n",
    "\n",
    "\n",
    "```\n",
    "a = np.array([1,2,3])\n",
    "```\n",
    "\n",
    "\n",
    "Desired Output:\n",
    "\n",
    "\n",
    "\n",
    "```\n",
    "#> array([1, 1, 1, 2, 2, 2, 3, 3, 3, 1, 2, 3, 1, 2, 3, 1, 2, 3])\n",
    "```\n",
    "\n",
    "\n"
   ]
  },
  {
   "cell_type": "code",
   "execution_count": 30,
   "metadata": {
    "id": "ucqs8mKuxOu_"
   },
   "outputs": [
    {
     "data": {
      "text/plain": [
       "array([1, 1, 1, 2, 2, 2, 3, 3, 3, 1, 2, 3, 1, 2, 3, 1, 2, 3])"
      ]
     },
     "execution_count": 30,
     "metadata": {},
     "output_type": "execute_result"
    }
   ],
   "source": [
    "a = np.array([1,2,3])\n",
    "\n",
    "new_a = np.insert(a, [-1, -1, -2, -2, -3, -3], [3, 3, 2, 2, 1, 1])\n",
    "\n",
    "\n",
    "new_a = np.append(new_a, [1,2,3,1,2,3,1,2,3])\n",
    "new_a"
   ]
  },
  {
   "cell_type": "markdown",
   "metadata": {
    "id": "z714O_AoyOKW"
   },
   "source": [
    "Problem  8\n",
    "\n",
    "From array a remove all items present in array b\n",
    "\n",
    "Input:\n",
    "\n",
    "\n",
    "```\n",
    "a = np.array([1,2,3,4,5])\n",
    "b = np.array([5,6,7,8,9])\n",
    "```\n",
    "\n",
    "Desired Output:\n",
    "\n",
    "```\n",
    "array([1,2,3,4])\n",
    "```\n",
    "\n",
    "\n"
   ]
  },
  {
   "cell_type": "code",
   "execution_count": 41,
   "metadata": {
    "id": "9S49aVovyY3D"
   },
   "outputs": [
    {
     "name": "stdout",
     "output_type": "stream",
     "text": [
      "[1 2 3 4 5]\n",
      "[]\n"
     ]
    }
   ],
   "source": [
    "a = np.array([1,2,3,4,5])\n",
    "b = np.array([5,6,7,8,9])\n",
    "\n",
    "b = np.delete(b, np.s_[:])\n",
    "print(a)\n",
    "print(b)"
   ]
  },
  {
   "cell_type": "markdown",
   "metadata": {
    "id": "EAfoETZyyZi2"
   },
   "source": [
    "Problem  9\n",
    "\n",
    "Get the positions where elements of a and b match\n",
    "\n",
    "Input:\n",
    "\n",
    "\n",
    "\n",
    "```\n",
    "a = np.array([1,2,3,2,3,4,3,4,5,6])\n",
    "b = np.array([7,2,10,2,7,4,9,4,9,8])\n",
    "```\n",
    "\n",
    "\n",
    "Desired Output:\n",
    "\n",
    "\n",
    "\n",
    "```\n",
    "(array([1, 3, 5, 7]),)\n",
    "```\n",
    "\n"
   ]
  },
  {
   "cell_type": "code",
   "execution_count": 47,
   "metadata": {
    "id": "pTW1JS-OysyM"
   },
   "outputs": [
    {
     "name": "stdout",
     "output_type": "stream",
     "text": [
      "(0,) 1\n",
      "(1,) 2\n",
      "(2,) 3\n",
      "(3,) 2\n",
      "(4,) 3\n",
      "(5,) 4\n",
      "(6,) 3\n",
      "(7,) 4\n",
      "(8,) 5\n",
      "(9,) 6\n"
     ]
    }
   ],
   "source": [
    "a = np.array([1,2,3,2,3,4,3,4,5,6])\n",
    "b = np.array([7,2,10,2,7,4,9,4,9,8])\n",
    "\n"
   ]
  },
  {
   "cell_type": "markdown",
   "metadata": {
    "id": "0wj25KsAyxfv"
   },
   "source": [
    "Problem  10\n",
    "\n",
    "Swap columns 1 and 2 in the array arr.\n",
    "\n",
    "```\n",
    "arr = np.arange(9).reshape(3,3)\n",
    "```\n",
    "\n",
    "Output:\n",
    "\n",
    "\n",
    "\n",
    "```\n",
    "array([[1, 0, 2],\n",
    "      [4, 3, 5],\n",
    "      [7, 6, 8]])\n",
    "```\n",
    "\n",
    "\n"
   ]
  },
  {
   "cell_type": "code",
   "execution_count": 68,
   "metadata": {
    "id": "V16xM0yjzfI0"
   },
   "outputs": [
    {
     "data": {
      "text/plain": [
       "array([[1, 0, 2],\n",
       "       [4, 3, 5],\n",
       "       [7, 6, 8]])"
      ]
     },
     "execution_count": 68,
     "metadata": {},
     "output_type": "execute_result"
    }
   ],
   "source": [
    "arr = np.arange(9).reshape(3,3)\n",
    "arr[:, [0, 1]] = arr[:, [1, 0]]\n",
    "arr"
   ]
  },
  {
   "cell_type": "markdown",
   "metadata": {
    "id": "T3JTUp181MAR"
   },
   "source": [
    "Problem  11\n",
    "\n",
    "From the array a, replace all values greater than 30 to 30 and less than 10 to 10.\n",
    "\n",
    "Input:\n",
    "\n",
    "\n",
    "```\n",
    "np.random.seed(100)\n",
    "a = np.random.uniform(1,50, 20)\n",
    "```\n"
   ]
  },
  {
   "cell_type": "markdown",
   "metadata": {
    "id": "LHQfYYtLrz5e"
   },
   "source": [
    "Problem  12\n",
    "\n",
    "Compute the counts of unique values row-wise.\n",
    "\n",
    "Input:\n",
    "\n",
    "\n",
    "\n",
    "```\n",
    "np.random.seed(100)\n",
    "arr = np.random.randint(1,11,size=(6, 10))\n",
    "arr\n",
    "> array([[ 9,  9,  4,  8,  8,  1,  5,  3,  6,  3],\n",
    ">        [ 3,  3,  2,  1,  9,  5,  1, 10,  7,  3],\n",
    ">        [ 5,  2,  6,  4,  5,  5,  4,  8,  2,  2],\n",
    ">        [ 8,  8,  1,  3, 10, 10,  4,  3,  6,  9],\n",
    ">        [ 2,  1,  8,  7,  3,  1,  9,  3,  6,  2],\n",
    ">        [ 9,  2,  6,  5,  3,  9,  4,  6,  1, 10]])\n",
    "```\n",
    "\n",
    "\n",
    "\n",
    "Desired Output:\n",
    "\n",
    "\n",
    "\n",
    "```\n",
    "> [[1, 0, 2, 1, 1, 1, 0, 2, 2, 0],\n",
    ">  [2, 1, 3, 0, 1, 0, 1, 0, 1, 1],\n",
    ">  [0, 3, 0, 2, 3, 1, 0, 1, 0, 0],\n",
    ">  [1, 0, 2, 1, 0, 1, 0, 2, 1, 2],\n",
    ">  [2, 2, 2, 0, 0, 1, 1, 1, 1, 0],\n",
    ">  [1, 1, 1, 1, 1, 2, 0, 0, 2, 1]]\n",
    "```\n",
    "\n"
   ]
  },
  {
   "cell_type": "code",
   "execution_count": 8,
   "metadata": {
    "id": "Ju77O_4x1TJl"
   },
   "outputs": [
    {
     "data": {
      "text/plain": [
       "array(['10', '10', '10', '30', '10', '10', '30', '30', '10', '10', '30',\n",
       "       '10', '10', '10', '10', '30', '30', '10', '30', '10'], dtype='<U2')"
      ]
     },
     "execution_count": 8,
     "metadata": {},
     "output_type": "execute_result"
    }
   ],
   "source": [
    "import numpy as np\n",
    "np.random.seed(100)\n",
    "a = np.random.uniform(1,50, 20)\n",
    "# a\n",
    "np.where(a[:] > 30, '30', '10')"
   ]
  },
  {
   "cell_type": "code",
   "execution_count": null,
   "metadata": {
    "id": "MwEiQ9wssF1G"
   },
   "outputs": [],
   "source": []
  },
  {
   "cell_type": "markdown",
   "metadata": {
    "id": "j5DBowUpsTSR"
   },
   "source": [
    "Problem  13\n",
    "\n",
    "Compute the one-hot encodings (dummy binary variables for each unique value in the array)"
   ]
  },
  {
   "cell_type": "code",
   "execution_count": null,
   "metadata": {
    "id": "9_W66J-VwNnJ"
   },
   "outputs": [],
   "source": [
    "# i don't understand the  dummy bin variables and one-hot-encoding"
   ]
  },
  {
   "cell_type": "markdown",
   "metadata": {
    "id": "ku1ShYriwWg5"
   },
   "source": [
    "Problem  14\n",
    "\n",
    "Create the ranks for the given numeric array a.\n",
    "\n",
    "Input:\n",
    "\n",
    "\n",
    "\n",
    "```\n",
    "np.random.seed(10)\n",
    "a = np.random.randint(20, size=10)\n",
    "print(a)\n",
    "#> [ 9  4 15  0 17 16 17  8  9  0]\n",
    "```\n",
    "\n",
    "Desired output:\n",
    "\n",
    "```\n",
    "[4 2 6 0 8 7 9 3 5 1]\n",
    "```"
   ]
  },
  {
   "cell_type": "code",
   "execution_count": 17,
   "metadata": {
    "id": "MTqYk__owkLS"
   },
   "outputs": [
    {
     "name": "stdout",
     "output_type": "stream",
     "text": [
      "[4 2 6 0 8 7 9 3 5 1]\n"
     ]
    }
   ],
   "source": [
    "import numpy as np\n",
    "\n",
    "# Input array\n",
    "a = np.array([9, 4, 15, 0, 17, 16, 17, 8, 9, 0])\n",
    "i = np.argsort(a)\n",
    "# Compute the ranks\n",
    "ranks = np.argsort(i)\n",
    "\n",
    "print(ranks)"
   ]
  },
  {
   "cell_type": "markdown",
   "metadata": {
    "id": "GTX22O_CwBCn"
   },
   "source": [
    "Problem  15\n",
    "\n",
    "Create a rank array of the same shape as a given numeric array a.\n",
    "\n",
    "Input:\n",
    "\n",
    "\n",
    "\n",
    "```\n",
    "np.random.seed(10)\n",
    "a = np.random.randint(20, size=[2,5])\n",
    "print(a)\n",
    "#> [[ 9  4 15  0 17]\n",
    "#>  [16 17  8  9  0]]\n",
    "```\n",
    "\n",
    "\n",
    "Desired output:\n",
    "\n",
    "\n",
    "\n",
    "```\n",
    "#> [[4 2 6 0 8]\n",
    "#>  [7 9 3 5 1]]\n",
    "```\n",
    "\n"
   ]
  },
  {
   "cell_type": "code",
   "execution_count": 32,
   "metadata": {
    "id": "8Jrl4Xf8wL6n"
   },
   "outputs": [
    {
     "data": {
      "text/plain": [
       "array([[2, 1, 3, 0, 4],\n",
       "       [3, 4, 1, 2, 0]], dtype=int64)"
      ]
     },
     "execution_count": 32,
     "metadata": {},
     "output_type": "execute_result"
    }
   ],
   "source": [
    "# how to get same shape in output rank array"
   ]
  },
  {
   "cell_type": "markdown",
   "metadata": {
    "id": "JX1wmQYXwsZP"
   },
   "source": [
    "Problem  16\n",
    "\n",
    "Compute the min-by-max for each row for given 2d numpy array\n",
    "\n",
    "Input:\n",
    "\n",
    "```\n",
    "np.random.seed(100)\n",
    "a = np.random.randint(1,10, [5,3])\n",
    "a\n",
    "#> array([[9, 9, 4],\n",
    "#>        [8, 8, 1],\n",
    "#>        [5, 3, 6],\n",
    "#>        [3, 3, 3],\n",
    "#>        [2, 1, 9]])\n",
    "```\n",
    "\n",
    "Desired Output:\n",
    "\n",
    "```\n",
    "array([ 0.44444444,  0.125     ,  0.5       ,  1.        ,  0.11111111])\n",
    "```"
   ]
  },
  {
   "cell_type": "code",
   "execution_count": 4,
   "metadata": {
    "id": "9u7Vg5F-wtwu"
   },
   "outputs": [
    {
     "data": {
      "text/plain": [
       "array([0.44444444, 0.125     , 0.5       , 1.        , 0.11111111])"
      ]
     },
     "execution_count": 4,
     "metadata": {},
     "output_type": "execute_result"
    }
   ],
   "source": [
    "import numpy as np\n",
    "arr = np.array([[9, 9, 4], [8, 8, 1], [5, 3, 6], [3, 3, 3], [2, 1, 9]])\n",
    "res = np.min(arr, axis=1) / np.max(arr, axis=1)\n",
    "res"
   ]
  },
  {
   "cell_type": "markdown",
   "metadata": {
    "id": "pLwGxnDdwvNZ"
   },
   "source": [
    "Problem  17\n",
    "\n",
    "Find the duplicate entries (2nd occurrence onwards) in the given numpy array and mark them as True. First time occurrences should be False\n",
    "\n",
    "Input\n",
    "```\n",
    "np.random.seed(100)\n",
    "a = np.random.randint(0, 5, 10)\n",
    "print('Array: ', a)\n",
    "#> Array: [0 0 3 0 2 4 2 2 2 2]\n",
    "```\n",
    "Desired Output:\n",
    "```\n",
    "#> [False  True False  True False False  True  True  True  True]\n",
    "```"
   ]
  },
  {
   "cell_type": "code",
   "execution_count": 13,
   "metadata": {
    "id": "iFzMSHx-xWTX"
   },
   "outputs": [],
   "source": []
  },
  {
   "cell_type": "markdown",
   "metadata": {
    "id": "gE2QG7lfwvKP"
   },
   "source": [
    "Problem  18\n",
    "\n",
    "Drop all nan values from a 1D numpy array\n",
    "\n",
    "Input:\n",
    "```\n",
    "np.array([1,2,3,np.nan,5,6,7,np.nan])\n",
    "```\n",
    "Desired Output:\n",
    "```\n",
    "array([ 1.,  2.,  3.,  5.,  6.,  7.])\n",
    "```"
   ]
  },
  {
   "cell_type": "code",
   "execution_count": 41,
   "metadata": {
    "id": "jrEnT6SQxmuL"
   },
   "outputs": [
    {
     "data": {
      "text/plain": [
       "array([nan, nan])"
      ]
     },
     "execution_count": 41,
     "metadata": {},
     "output_type": "execute_result"
    }
   ],
   "source": [
    "a = np.array([1,2,3,np.nan,5,6,7,np.nan])\n",
    "delnan = np.isnan(a)\n",
    "\n",
    "a2 = a[~delnan]\n",
    "a2"
   ]
  },
  {
   "cell_type": "markdown",
   "metadata": {
    "id": "aDvGrDytx7Jh"
   },
   "source": [
    "Problem 19\n",
    "\n",
    "Find all the peaks in a 1D numpy array a. Peaks are points surrounded by smaller values on both sides.\n",
    "\n",
    "Input:\n",
    "```\n",
    "a = np.array([1, 3, 7, 1, 2, 6, 0, 1])\n",
    "```\n",
    "Desired Output:\n",
    "```\n",
    "#> array([2, 5])\n",
    "```"
   ]
  },
  {
   "cell_type": "code",
   "execution_count": 46,
   "metadata": {
    "id": "PVAt2DVGxnUc"
   },
   "outputs": [
    {
     "data": {
      "text/plain": [
       "(array([2, 5], dtype=int64), {})"
      ]
     },
     "execution_count": 46,
     "metadata": {},
     "output_type": "execute_result"
    }
   ],
   "source": [
    "import numpy as np\n",
    "import scipy as sp\n",
    "\n",
    "arr =  np.array([1, 3, 7, 1, 2, 6, 0, 1])\n",
    "\n",
    "peaks= sp.signal.find_peaks(arr)\n",
    "peaks"
   ]
  },
  {
   "cell_type": "markdown",
   "metadata": {
    "id": "ueqd1H7WyHT6"
   },
   "source": [
    "Problem 20\n",
    "\n",
    "Subtract the 1d array b_1d from the 2d array a_2d, such that each item of b_1d subtracts from respective row of a_2d.\n",
    "\n",
    "\n",
    "Input\n",
    "```\n",
    "a_2d = np.array([[3,3,3],[4,4,4],[5,5,5]])\n",
    "b_1d = np.array([1,1,1]\n",
    "\n",
    "```\n",
    "Desired Output:\n",
    "```\n",
    "#> [[2 2 2]\n",
    "#>  [2 2 2]\n",
    "#>  [2 2 2]]\n",
    "```"
   ]
  },
  {
   "cell_type": "code",
   "execution_count": 61,
   "metadata": {
    "id": "usT-gMqOySyG",
    "scrolled": true
   },
   "outputs": [
    {
     "data": {
      "text/plain": [
       "array([[2, 2, 2],\n",
       "       [2, 2, 2],\n",
       "       [2, 2, 2]])"
      ]
     },
     "execution_count": 61,
     "metadata": {},
     "output_type": "execute_result"
    }
   ],
   "source": [
    "a_2d = np.array([[3,3,3],[4,4,4],[5,5,5]])\n",
    "b_1d = np.array([1,1,1])\n",
    "                \n",
    "arr = a_2d[0] - b_1d\n",
    "times = 3\n",
    "a = np.tile(arr,(times, 1))\n",
    "a"
   ]
  },
  {
   "cell_type": "markdown",
   "metadata": {
    "id": "HWe3-R9C3rMi"
   },
   "source": [
    "Problem 21\n",
    "\n",
    "Find the index of 5th repetition of number 1 in x.\n",
    "\n",
    "Input:\n",
    "\n",
    "```\n",
    "x = np.array([1, 2, 1, 1, 3, 4, 3, 1, 1, 2, 1, 1, 2])\n",
    "```\n",
    "\n"
   ]
  },
  {
   "cell_type": "code",
   "execution_count": 16,
   "metadata": {
    "id": "EvD16zlJ3wVZ"
   },
   "outputs": [
    {
     "data": {
      "text/plain": [
       "8"
      ]
     },
     "execution_count": 16,
     "metadata": {},
     "output_type": "execute_result"
    }
   ],
   "source": [
    "x = np.array([1, 2, 1, 1, 3, 4, 3, 1, 1, 2, 1, 1, 2])\n",
    "\n",
    "two = 1\n",
    "\n",
    "find_two = np.where(x == two)[0]\n",
    "\n",
    "find_index = find_two[4]\n",
    "find_index"
   ]
  },
  {
   "cell_type": "markdown",
   "metadata": {
    "id": "I791Ruie3xBD"
   },
   "source": [
    "Problem 22\n",
    "\n",
    "Create a numpy array of length 10, starting from 5 and has a step of 3 between consecutive numbers"
   ]
  },
  {
   "cell_type": "code",
   "execution_count": null,
   "metadata": {
    "id": "kzFiZ_SC39em"
   },
   "outputs": [],
   "source": [
    "\n",
    "\n"
   ]
  },
  {
   "cell_type": "markdown",
   "metadata": {
    "id": "QyQmrqM43-SS"
   },
   "source": [
    "Problem 23\n",
    "\n",
    " From the given 1d array arr, generate a 2d matrix using strides, with a window length of 4 and strides of 2, like [[0,1,2,3], [2,3,4,5], [4,5,6,7]..]\n",
    "\n",
    "Input:\n",
    "```\n",
    "arr = np.arange(15)\n",
    "arr\n",
    "#> array([ 0,  1,  2,  3,  4,  5,  6,  7,  8,  9, 10, 11, 12, 13, 14])\n",
    "```\n",
    "\n",
    "Desired Output:\n",
    "```\n",
    "#> [[ 0  1  2  3]\n",
    "#>  [ 2  3  4  5]\n",
    "#>  [ 4  5  6  7]\n",
    "#>  [ 6  7  8  9]\n",
    "#>  [ 8  9 10 11]\n",
    "#>  [10 11 12 13]]\n",
    "```"
   ]
  },
  {
   "cell_type": "code",
   "execution_count": null,
   "metadata": {
    "id": "My6d6SyU4NhC"
   },
   "outputs": [],
   "source": []
  }
 ],
 "metadata": {
  "colab": {
   "provenance": []
  },
  "kernelspec": {
   "display_name": "Python 3 (ipykernel)",
   "language": "python",
   "name": "python3"
  },
  "language_info": {
   "codemirror_mode": {
    "name": "ipython",
    "version": 3
   },
   "file_extension": ".py",
   "mimetype": "text/x-python",
   "name": "python",
   "nbconvert_exporter": "python",
   "pygments_lexer": "ipython3",
   "version": "3.10.9"
  }
 },
 "nbformat": 4,
 "nbformat_minor": 1
}
