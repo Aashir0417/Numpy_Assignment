{
 "cells": [
  {
   "cell_type": "code",
   "execution_count": 3,
   "id": "4a064615",
   "metadata": {},
   "outputs": [
    {
     "data": {
      "text/plain": [
       "0    1\n",
       "1    2\n",
       "2    3\n",
       "3    4\n",
       "4    5\n",
       "dtype: int64"
      ]
     },
     "execution_count": 3,
     "metadata": {},
     "output_type": "execute_result"
    }
   ],
   "source": [
    "import pandas as pd\n",
    "\n",
    "df = pd.Series([1, 2, 3, 4, 5])\n",
    "df"
   ]
  },
  {
   "cell_type": "code",
   "execution_count": 25,
   "id": "e3928fbe",
   "metadata": {},
   "outputs": [
    {
     "data": {
      "text/plain": [
       "a    5\n",
       "b    6\n",
       "c    7\n",
       "d    8\n",
       "e    9\n",
       "dtype: int64"
      ]
     },
     "execution_count": 25,
     "metadata": {},
     "output_type": "execute_result"
    }
   ],
   "source": [
    "df = pd.Series(range(5,10) , index=['a','b','c','d','e'])\n",
    "df"
   ]
  },
  {
   "cell_type": "code",
   "execution_count": 26,
   "id": "e2c0372f",
   "metadata": {},
   "outputs": [],
   "source": [
    "df.name"
   ]
  },
  {
   "cell_type": "code",
   "execution_count": 7,
   "id": "0edc5de2",
   "metadata": {},
   "outputs": [
    {
     "data": {
      "text/plain": [
       "a    40\n",
       "b    40\n",
       "c    40\n",
       "d    40\n",
       "e    40\n",
       "dtype: int64"
      ]
     },
     "execution_count": 7,
     "metadata": {},
     "output_type": "execute_result"
    }
   ],
   "source": [
    "df = pd.Series(40, index=['a','b','c','d','e'])\n",
    "df"
   ]
  },
  {
   "cell_type": "code",
   "execution_count": 8,
   "id": "72af3a7d",
   "metadata": {},
   "outputs": [],
   "source": [
    "df['e'] = 16"
   ]
  },
  {
   "cell_type": "code",
   "execution_count": 9,
   "id": "d363a427",
   "metadata": {},
   "outputs": [
    {
     "data": {
      "text/plain": [
       "a    40\n",
       "b    40\n",
       "c    40\n",
       "d    40\n",
       "e    16\n",
       "dtype: int64"
      ]
     },
     "execution_count": 9,
     "metadata": {},
     "output_type": "execute_result"
    }
   ],
   "source": [
    "df"
   ]
  },
  {
   "cell_type": "code",
   "execution_count": 10,
   "id": "b8ff3ebe",
   "metadata": {},
   "outputs": [],
   "source": [
    "df['e']  = \"Aqsa\""
   ]
  },
  {
   "cell_type": "code",
   "execution_count": 11,
   "id": "12f26369",
   "metadata": {},
   "outputs": [
    {
     "data": {
      "text/plain": [
       "a      40\n",
       "b      40\n",
       "c      40\n",
       "d      40\n",
       "e    Aqsa\n",
       "dtype: object"
      ]
     },
     "execution_count": 11,
     "metadata": {},
     "output_type": "execute_result"
    }
   ],
   "source": [
    "df"
   ]
  },
  {
   "cell_type": "code",
   "execution_count": 12,
   "id": "87e0d4ef",
   "metadata": {},
   "outputs": [
    {
     "data": {
      "text/plain": [
       "False"
      ]
     },
     "execution_count": 12,
     "metadata": {},
     "output_type": "execute_result"
    }
   ],
   "source": [
    "\"g\" in df"
   ]
  },
  {
   "cell_type": "code",
   "execution_count": 13,
   "id": "6772a453",
   "metadata": {},
   "outputs": [
    {
     "data": {
      "text/plain": [
       "True"
      ]
     },
     "execution_count": 13,
     "metadata": {},
     "output_type": "execute_result"
    }
   ],
   "source": [
    "\"e\" in df"
   ]
  },
  {
   "cell_type": "code",
   "execution_count": 16,
   "id": "b01711e5",
   "metadata": {},
   "outputs": [
    {
     "data": {
      "text/plain": [
       "a    1600\n",
       "b    1600\n",
       "c    1600\n",
       "d    1600\n",
       "e    1024\n",
       "dtype: object"
      ]
     },
     "execution_count": 16,
     "metadata": {},
     "output_type": "execute_result"
    }
   ],
   "source": [
    "df[\"e\"] = 32\n",
    "df * df"
   ]
  },
  {
   "cell_type": "code",
   "execution_count": 17,
   "id": "e2fb28b6",
   "metadata": {},
   "outputs": [
    {
     "data": {
      "text/plain": [
       "a    0\n",
       "b    0\n",
       "c    0\n",
       "d    0\n",
       "e    0\n",
       "dtype: object"
      ]
     },
     "execution_count": 17,
     "metadata": {},
     "output_type": "execute_result"
    }
   ],
   "source": [
    "df % 2"
   ]
  },
  {
   "cell_type": "code",
   "execution_count": 18,
   "id": "0cbe1733",
   "metadata": {},
   "outputs": [
    {
     "data": {
      "text/plain": [
       "a    1\n",
       "b    1\n",
       "c    1\n",
       "d    1\n",
       "e    2\n",
       "dtype: object"
      ]
     },
     "execution_count": 18,
     "metadata": {},
     "output_type": "execute_result"
    }
   ],
   "source": [
    "df % 3"
   ]
  },
  {
   "cell_type": "code",
   "execution_count": 20,
   "id": "e91b9be8",
   "metadata": {},
   "outputs": [
    {
     "data": {
      "text/plain": [
       "a    19\n",
       "b    19\n",
       "c    19\n",
       "d    19\n",
       "e    11\n",
       "dtype: object"
      ]
     },
     "execution_count": 20,
     "metadata": {},
     "output_type": "execute_result"
    }
   ],
   "source": [
    "df - 21"
   ]
  },
  {
   "cell_type": "code",
   "execution_count": 27,
   "id": "bc8c403f",
   "metadata": {},
   "outputs": [
    {
     "data": {
      "text/plain": [
       "a    5\n",
       "b    6\n",
       "c    7\n",
       "d    8\n",
       "e    9\n",
       "Name: Data, dtype: int64"
      ]
     },
     "execution_count": 27,
     "metadata": {},
     "output_type": "execute_result"
    }
   ],
   "source": [
    "df.rename(\"Data\", inplace=True)"
   ]
  },
  {
   "cell_type": "code",
   "execution_count": 22,
   "id": "71d6fd16",
   "metadata": {},
   "outputs": [
    {
     "data": {
      "text/plain": [
       "a    40\n",
       "b    40\n",
       "c    40\n",
       "d    40\n",
       "e    32\n",
       "Name: Data, dtype: object"
      ]
     },
     "execution_count": 22,
     "metadata": {},
     "output_type": "execute_result"
    }
   ],
   "source": [
    "df"
   ]
  },
  {
   "cell_type": "code",
   "execution_count": 23,
   "id": "c00e4b57",
   "metadata": {},
   "outputs": [
    {
     "data": {
      "text/plain": [
       "a    5\n",
       "b    6\n",
       "c    7\n",
       "d    8\n",
       "e    9\n",
       "Name: Data Integar, dtype: int64"
      ]
     },
     "execution_count": 23,
     "metadata": {},
     "output_type": "execute_result"
    }
   ],
   "source": [
    "df = pd.Series(range(5,10) , index=['a','b','c','d','e'] , name=\"Data Integar\")\n",
    "df"
   ]
  },
  {
   "cell_type": "code",
   "execution_count": 24,
   "id": "70f34314",
   "metadata": {},
   "outputs": [
    {
     "data": {
      "text/plain": [
       "'Data Integar'"
      ]
     },
     "execution_count": 24,
     "metadata": {},
     "output_type": "execute_result"
    }
   ],
   "source": [
    "df.name"
   ]
  },
  {
   "cell_type": "code",
   "execution_count": null,
   "id": "e4562afb",
   "metadata": {},
   "outputs": [],
   "source": []
  }
 ],
 "metadata": {
  "kernelspec": {
   "display_name": "Python 3 (ipykernel)",
   "language": "python",
   "name": "python3"
  },
  "language_info": {
   "codemirror_mode": {
    "name": "ipython",
    "version": 3
   },
   "file_extension": ".py",
   "mimetype": "text/x-python",
   "name": "python",
   "nbconvert_exporter": "python",
   "pygments_lexer": "ipython3",
   "version": "3.10.9"
  }
 },
 "nbformat": 4,
 "nbformat_minor": 5
}
